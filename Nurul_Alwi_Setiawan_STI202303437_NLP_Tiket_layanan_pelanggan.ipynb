{
  "cells": [
    {
      "cell_type": "markdown",
      "source": [
        "1. Upload dan load dataset"
      ],
      "metadata": {
        "id": "PaZ1uL-S1QuK"
      }
    },
    {
      "cell_type": "code",
      "source": [
        "import pandas as pd\n",
        "import numpy as np\n",
        "import tensorflow as tf\n",
        "from tensorflow.keras.preprocessing.text import Tokenizer\n",
        "from tensorflow.keras.preprocessing.sequence import pad_sequences\n",
        "from sklearn.model_selection import train_test_split\n",
        "from sklearn.preprocessing import LabelEncoder\n",
        "import matplotlib.pyplot as plt\n"
      ],
      "metadata": {
        "id": "XzgEh3fZw1sk"
      },
      "execution_count": 15,
      "outputs": []
    },
    {
      "cell_type": "code",
      "source": [
        "df = pd.read_csv(\"/content/customer_support_tickets.csv\")\n",
        "df.head()"
      ],
      "metadata": {
        "colab": {
          "base_uri": "https://localhost:8080/",
          "height": 538
        },
        "id": "BSAfFzHyxrVO",
        "outputId": "b37d5869-e17a-4abe-e746-155fad6a289a"
      },
      "execution_count": 31,
      "outputs": [
        {
          "output_type": "execute_result",
          "data": {
            "text/plain": [
              "   Ticket ID        Customer Name              Customer Email  Customer Age  \\\n",
              "0          1        Marisa Obrien  carrollallison@example.com            32   \n",
              "1          2         Jessica Rios    clarkeashley@example.com            42   \n",
              "2          3  Christopher Robbins   gonzalestracy@example.com            48   \n",
              "3          4     Christina Dillon    bradleyolson@example.org            27   \n",
              "4          5    Alexander Carroll     bradleymark@example.com            67   \n",
              "\n",
              "  Customer Gender Product Purchased Date of Purchase      Ticket Type  \\\n",
              "0           Other        GoPro Hero       2021-03-22  Technical issue   \n",
              "1          Female       LG Smart TV       2021-05-22  Technical issue   \n",
              "2           Other          Dell XPS       2020-07-14  Technical issue   \n",
              "3          Female  Microsoft Office       2020-11-13  Billing inquiry   \n",
              "4          Female  Autodesk AutoCAD       2020-02-04  Billing inquiry   \n",
              "\n",
              "             Ticket Subject  \\\n",
              "0             Product setup   \n",
              "1  Peripheral compatibility   \n",
              "2           Network problem   \n",
              "3            Account access   \n",
              "4                 Data loss   \n",
              "\n",
              "                                  Ticket Description  \\\n",
              "0  I'm having an issue with the {product_purchase...   \n",
              "1  I'm having an issue with the {product_purchase...   \n",
              "2  I'm facing a problem with my {product_purchase...   \n",
              "3  I'm having an issue with the {product_purchase...   \n",
              "4  I'm having an issue with the {product_purchase...   \n",
              "\n",
              "               Ticket Status                                     Resolution  \\\n",
              "0  Pending Customer Response                                            NaN   \n",
              "1  Pending Customer Response                                            NaN   \n",
              "2                     Closed   Case maybe show recently my computer follow.   \n",
              "3                     Closed  Try capital clearly never color toward story.   \n",
              "4                     Closed                    West decision evidence bit.   \n",
              "\n",
              "  Ticket Priority Ticket Channel  First Response Time   Time to Resolution  \\\n",
              "0        Critical   Social media  2023-06-01 12:15:36                  NaN   \n",
              "1        Critical           Chat  2023-06-01 16:45:38                  NaN   \n",
              "2             Low   Social media  2023-06-01 11:14:38  2023-06-01 18:05:38   \n",
              "3             Low   Social media  2023-06-01 07:29:40  2023-06-01 01:57:40   \n",
              "4             Low          Email  2023-06-01 00:12:42  2023-06-01 19:53:42   \n",
              "\n",
              "   Customer Satisfaction Rating  \n",
              "0                           NaN  \n",
              "1                           NaN  \n",
              "2                           3.0  \n",
              "3                           3.0  \n",
              "4                           1.0  "
            ],
            "text/html": [
              "\n",
              "  <div id=\"df-106b71f5-c154-4959-a0eb-f23851d8bec7\" class=\"colab-df-container\">\n",
              "    <div>\n",
              "<style scoped>\n",
              "    .dataframe tbody tr th:only-of-type {\n",
              "        vertical-align: middle;\n",
              "    }\n",
              "\n",
              "    .dataframe tbody tr th {\n",
              "        vertical-align: top;\n",
              "    }\n",
              "\n",
              "    .dataframe thead th {\n",
              "        text-align: right;\n",
              "    }\n",
              "</style>\n",
              "<table border=\"1\" class=\"dataframe\">\n",
              "  <thead>\n",
              "    <tr style=\"text-align: right;\">\n",
              "      <th></th>\n",
              "      <th>Ticket ID</th>\n",
              "      <th>Customer Name</th>\n",
              "      <th>Customer Email</th>\n",
              "      <th>Customer Age</th>\n",
              "      <th>Customer Gender</th>\n",
              "      <th>Product Purchased</th>\n",
              "      <th>Date of Purchase</th>\n",
              "      <th>Ticket Type</th>\n",
              "      <th>Ticket Subject</th>\n",
              "      <th>Ticket Description</th>\n",
              "      <th>Ticket Status</th>\n",
              "      <th>Resolution</th>\n",
              "      <th>Ticket Priority</th>\n",
              "      <th>Ticket Channel</th>\n",
              "      <th>First Response Time</th>\n",
              "      <th>Time to Resolution</th>\n",
              "      <th>Customer Satisfaction Rating</th>\n",
              "    </tr>\n",
              "  </thead>\n",
              "  <tbody>\n",
              "    <tr>\n",
              "      <th>0</th>\n",
              "      <td>1</td>\n",
              "      <td>Marisa Obrien</td>\n",
              "      <td>carrollallison@example.com</td>\n",
              "      <td>32</td>\n",
              "      <td>Other</td>\n",
              "      <td>GoPro Hero</td>\n",
              "      <td>2021-03-22</td>\n",
              "      <td>Technical issue</td>\n",
              "      <td>Product setup</td>\n",
              "      <td>I'm having an issue with the {product_purchase...</td>\n",
              "      <td>Pending Customer Response</td>\n",
              "      <td>NaN</td>\n",
              "      <td>Critical</td>\n",
              "      <td>Social media</td>\n",
              "      <td>2023-06-01 12:15:36</td>\n",
              "      <td>NaN</td>\n",
              "      <td>NaN</td>\n",
              "    </tr>\n",
              "    <tr>\n",
              "      <th>1</th>\n",
              "      <td>2</td>\n",
              "      <td>Jessica Rios</td>\n",
              "      <td>clarkeashley@example.com</td>\n",
              "      <td>42</td>\n",
              "      <td>Female</td>\n",
              "      <td>LG Smart TV</td>\n",
              "      <td>2021-05-22</td>\n",
              "      <td>Technical issue</td>\n",
              "      <td>Peripheral compatibility</td>\n",
              "      <td>I'm having an issue with the {product_purchase...</td>\n",
              "      <td>Pending Customer Response</td>\n",
              "      <td>NaN</td>\n",
              "      <td>Critical</td>\n",
              "      <td>Chat</td>\n",
              "      <td>2023-06-01 16:45:38</td>\n",
              "      <td>NaN</td>\n",
              "      <td>NaN</td>\n",
              "    </tr>\n",
              "    <tr>\n",
              "      <th>2</th>\n",
              "      <td>3</td>\n",
              "      <td>Christopher Robbins</td>\n",
              "      <td>gonzalestracy@example.com</td>\n",
              "      <td>48</td>\n",
              "      <td>Other</td>\n",
              "      <td>Dell XPS</td>\n",
              "      <td>2020-07-14</td>\n",
              "      <td>Technical issue</td>\n",
              "      <td>Network problem</td>\n",
              "      <td>I'm facing a problem with my {product_purchase...</td>\n",
              "      <td>Closed</td>\n",
              "      <td>Case maybe show recently my computer follow.</td>\n",
              "      <td>Low</td>\n",
              "      <td>Social media</td>\n",
              "      <td>2023-06-01 11:14:38</td>\n",
              "      <td>2023-06-01 18:05:38</td>\n",
              "      <td>3.0</td>\n",
              "    </tr>\n",
              "    <tr>\n",
              "      <th>3</th>\n",
              "      <td>4</td>\n",
              "      <td>Christina Dillon</td>\n",
              "      <td>bradleyolson@example.org</td>\n",
              "      <td>27</td>\n",
              "      <td>Female</td>\n",
              "      <td>Microsoft Office</td>\n",
              "      <td>2020-11-13</td>\n",
              "      <td>Billing inquiry</td>\n",
              "      <td>Account access</td>\n",
              "      <td>I'm having an issue with the {product_purchase...</td>\n",
              "      <td>Closed</td>\n",
              "      <td>Try capital clearly never color toward story.</td>\n",
              "      <td>Low</td>\n",
              "      <td>Social media</td>\n",
              "      <td>2023-06-01 07:29:40</td>\n",
              "      <td>2023-06-01 01:57:40</td>\n",
              "      <td>3.0</td>\n",
              "    </tr>\n",
              "    <tr>\n",
              "      <th>4</th>\n",
              "      <td>5</td>\n",
              "      <td>Alexander Carroll</td>\n",
              "      <td>bradleymark@example.com</td>\n",
              "      <td>67</td>\n",
              "      <td>Female</td>\n",
              "      <td>Autodesk AutoCAD</td>\n",
              "      <td>2020-02-04</td>\n",
              "      <td>Billing inquiry</td>\n",
              "      <td>Data loss</td>\n",
              "      <td>I'm having an issue with the {product_purchase...</td>\n",
              "      <td>Closed</td>\n",
              "      <td>West decision evidence bit.</td>\n",
              "      <td>Low</td>\n",
              "      <td>Email</td>\n",
              "      <td>2023-06-01 00:12:42</td>\n",
              "      <td>2023-06-01 19:53:42</td>\n",
              "      <td>1.0</td>\n",
              "    </tr>\n",
              "  </tbody>\n",
              "</table>\n",
              "</div>\n",
              "    <div class=\"colab-df-buttons\">\n",
              "\n",
              "  <div class=\"colab-df-container\">\n",
              "    <button class=\"colab-df-convert\" onclick=\"convertToInteractive('df-106b71f5-c154-4959-a0eb-f23851d8bec7')\"\n",
              "            title=\"Convert this dataframe to an interactive table.\"\n",
              "            style=\"display:none;\">\n",
              "\n",
              "  <svg xmlns=\"http://www.w3.org/2000/svg\" height=\"24px\" viewBox=\"0 -960 960 960\">\n",
              "    <path d=\"M120-120v-720h720v720H120Zm60-500h600v-160H180v160Zm220 220h160v-160H400v160Zm0 220h160v-160H400v160ZM180-400h160v-160H180v160Zm440 0h160v-160H620v160ZM180-180h160v-160H180v160Zm440 0h160v-160H620v160Z\"/>\n",
              "  </svg>\n",
              "    </button>\n",
              "\n",
              "  <style>\n",
              "    .colab-df-container {\n",
              "      display:flex;\n",
              "      gap: 12px;\n",
              "    }\n",
              "\n",
              "    .colab-df-convert {\n",
              "      background-color: #E8F0FE;\n",
              "      border: none;\n",
              "      border-radius: 50%;\n",
              "      cursor: pointer;\n",
              "      display: none;\n",
              "      fill: #1967D2;\n",
              "      height: 32px;\n",
              "      padding: 0 0 0 0;\n",
              "      width: 32px;\n",
              "    }\n",
              "\n",
              "    .colab-df-convert:hover {\n",
              "      background-color: #E2EBFA;\n",
              "      box-shadow: 0px 1px 2px rgba(60, 64, 67, 0.3), 0px 1px 3px 1px rgba(60, 64, 67, 0.15);\n",
              "      fill: #174EA6;\n",
              "    }\n",
              "\n",
              "    .colab-df-buttons div {\n",
              "      margin-bottom: 4px;\n",
              "    }\n",
              "\n",
              "    [theme=dark] .colab-df-convert {\n",
              "      background-color: #3B4455;\n",
              "      fill: #D2E3FC;\n",
              "    }\n",
              "\n",
              "    [theme=dark] .colab-df-convert:hover {\n",
              "      background-color: #434B5C;\n",
              "      box-shadow: 0px 1px 3px 1px rgba(0, 0, 0, 0.15);\n",
              "      filter: drop-shadow(0px 1px 2px rgba(0, 0, 0, 0.3));\n",
              "      fill: #FFFFFF;\n",
              "    }\n",
              "  </style>\n",
              "\n",
              "    <script>\n",
              "      const buttonEl =\n",
              "        document.querySelector('#df-106b71f5-c154-4959-a0eb-f23851d8bec7 button.colab-df-convert');\n",
              "      buttonEl.style.display =\n",
              "        google.colab.kernel.accessAllowed ? 'block' : 'none';\n",
              "\n",
              "      async function convertToInteractive(key) {\n",
              "        const element = document.querySelector('#df-106b71f5-c154-4959-a0eb-f23851d8bec7');\n",
              "        const dataTable =\n",
              "          await google.colab.kernel.invokeFunction('convertToInteractive',\n",
              "                                                    [key], {});\n",
              "        if (!dataTable) return;\n",
              "\n",
              "        const docLinkHtml = 'Like what you see? Visit the ' +\n",
              "          '<a target=\"_blank\" href=https://colab.research.google.com/notebooks/data_table.ipynb>data table notebook</a>'\n",
              "          + ' to learn more about interactive tables.';\n",
              "        element.innerHTML = '';\n",
              "        dataTable['output_type'] = 'display_data';\n",
              "        await google.colab.output.renderOutput(dataTable, element);\n",
              "        const docLink = document.createElement('div');\n",
              "        docLink.innerHTML = docLinkHtml;\n",
              "        element.appendChild(docLink);\n",
              "      }\n",
              "    </script>\n",
              "  </div>\n",
              "\n",
              "\n",
              "    <div id=\"df-ce4b51ba-7332-4908-a328-586da2f7527c\">\n",
              "      <button class=\"colab-df-quickchart\" onclick=\"quickchart('df-ce4b51ba-7332-4908-a328-586da2f7527c')\"\n",
              "                title=\"Suggest charts\"\n",
              "                style=\"display:none;\">\n",
              "\n",
              "<svg xmlns=\"http://www.w3.org/2000/svg\" height=\"24px\"viewBox=\"0 0 24 24\"\n",
              "     width=\"24px\">\n",
              "    <g>\n",
              "        <path d=\"M19 3H5c-1.1 0-2 .9-2 2v14c0 1.1.9 2 2 2h14c1.1 0 2-.9 2-2V5c0-1.1-.9-2-2-2zM9 17H7v-7h2v7zm4 0h-2V7h2v10zm4 0h-2v-4h2v4z\"/>\n",
              "    </g>\n",
              "</svg>\n",
              "      </button>\n",
              "\n",
              "<style>\n",
              "  .colab-df-quickchart {\n",
              "      --bg-color: #E8F0FE;\n",
              "      --fill-color: #1967D2;\n",
              "      --hover-bg-color: #E2EBFA;\n",
              "      --hover-fill-color: #174EA6;\n",
              "      --disabled-fill-color: #AAA;\n",
              "      --disabled-bg-color: #DDD;\n",
              "  }\n",
              "\n",
              "  [theme=dark] .colab-df-quickchart {\n",
              "      --bg-color: #3B4455;\n",
              "      --fill-color: #D2E3FC;\n",
              "      --hover-bg-color: #434B5C;\n",
              "      --hover-fill-color: #FFFFFF;\n",
              "      --disabled-bg-color: #3B4455;\n",
              "      --disabled-fill-color: #666;\n",
              "  }\n",
              "\n",
              "  .colab-df-quickchart {\n",
              "    background-color: var(--bg-color);\n",
              "    border: none;\n",
              "    border-radius: 50%;\n",
              "    cursor: pointer;\n",
              "    display: none;\n",
              "    fill: var(--fill-color);\n",
              "    height: 32px;\n",
              "    padding: 0;\n",
              "    width: 32px;\n",
              "  }\n",
              "\n",
              "  .colab-df-quickchart:hover {\n",
              "    background-color: var(--hover-bg-color);\n",
              "    box-shadow: 0 1px 2px rgba(60, 64, 67, 0.3), 0 1px 3px 1px rgba(60, 64, 67, 0.15);\n",
              "    fill: var(--button-hover-fill-color);\n",
              "  }\n",
              "\n",
              "  .colab-df-quickchart-complete:disabled,\n",
              "  .colab-df-quickchart-complete:disabled:hover {\n",
              "    background-color: var(--disabled-bg-color);\n",
              "    fill: var(--disabled-fill-color);\n",
              "    box-shadow: none;\n",
              "  }\n",
              "\n",
              "  .colab-df-spinner {\n",
              "    border: 2px solid var(--fill-color);\n",
              "    border-color: transparent;\n",
              "    border-bottom-color: var(--fill-color);\n",
              "    animation:\n",
              "      spin 1s steps(1) infinite;\n",
              "  }\n",
              "\n",
              "  @keyframes spin {\n",
              "    0% {\n",
              "      border-color: transparent;\n",
              "      border-bottom-color: var(--fill-color);\n",
              "      border-left-color: var(--fill-color);\n",
              "    }\n",
              "    20% {\n",
              "      border-color: transparent;\n",
              "      border-left-color: var(--fill-color);\n",
              "      border-top-color: var(--fill-color);\n",
              "    }\n",
              "    30% {\n",
              "      border-color: transparent;\n",
              "      border-left-color: var(--fill-color);\n",
              "      border-top-color: var(--fill-color);\n",
              "      border-right-color: var(--fill-color);\n",
              "    }\n",
              "    40% {\n",
              "      border-color: transparent;\n",
              "      border-right-color: var(--fill-color);\n",
              "      border-top-color: var(--fill-color);\n",
              "    }\n",
              "    60% {\n",
              "      border-color: transparent;\n",
              "      border-right-color: var(--fill-color);\n",
              "    }\n",
              "    80% {\n",
              "      border-color: transparent;\n",
              "      border-right-color: var(--fill-color);\n",
              "      border-bottom-color: var(--fill-color);\n",
              "    }\n",
              "    90% {\n",
              "      border-color: transparent;\n",
              "      border-bottom-color: var(--fill-color);\n",
              "    }\n",
              "  }\n",
              "</style>\n",
              "\n",
              "      <script>\n",
              "        async function quickchart(key) {\n",
              "          const quickchartButtonEl =\n",
              "            document.querySelector('#' + key + ' button');\n",
              "          quickchartButtonEl.disabled = true;  // To prevent multiple clicks.\n",
              "          quickchartButtonEl.classList.add('colab-df-spinner');\n",
              "          try {\n",
              "            const charts = await google.colab.kernel.invokeFunction(\n",
              "                'suggestCharts', [key], {});\n",
              "          } catch (error) {\n",
              "            console.error('Error during call to suggestCharts:', error);\n",
              "          }\n",
              "          quickchartButtonEl.classList.remove('colab-df-spinner');\n",
              "          quickchartButtonEl.classList.add('colab-df-quickchart-complete');\n",
              "        }\n",
              "        (() => {\n",
              "          let quickchartButtonEl =\n",
              "            document.querySelector('#df-ce4b51ba-7332-4908-a328-586da2f7527c button');\n",
              "          quickchartButtonEl.style.display =\n",
              "            google.colab.kernel.accessAllowed ? 'block' : 'none';\n",
              "        })();\n",
              "      </script>\n",
              "    </div>\n",
              "\n",
              "    </div>\n",
              "  </div>\n"
            ],
            "application/vnd.google.colaboratory.intrinsic+json": {
              "type": "dataframe",
              "variable_name": "df",
              "summary": "{\n  \"name\": \"df\",\n  \"rows\": 8469,\n  \"fields\": [\n    {\n      \"column\": \"Ticket ID\",\n      \"properties\": {\n        \"dtype\": \"number\",\n        \"std\": 2444,\n        \"min\": 1,\n        \"max\": 8469,\n        \"num_unique_values\": 8469,\n        \"samples\": [\n          4831,\n          7076,\n          4716\n        ],\n        \"semantic_type\": \"\",\n        \"description\": \"\"\n      }\n    },\n    {\n      \"column\": \"Customer Name\",\n      \"properties\": {\n        \"dtype\": \"string\",\n        \"num_unique_values\": 8028,\n        \"samples\": [\n          \"William Roberts\",\n          \"Jonathan Wilson\",\n          \"Devin Donovan\"\n        ],\n        \"semantic_type\": \"\",\n        \"description\": \"\"\n      }\n    },\n    {\n      \"column\": \"Customer Email\",\n      \"properties\": {\n        \"dtype\": \"string\",\n        \"num_unique_values\": 8320,\n        \"samples\": [\n          \"dcollier@example.com\",\n          \"loriwatts@example.org\",\n          \"fhoward@example.com\"\n        ],\n        \"semantic_type\": \"\",\n        \"description\": \"\"\n      }\n    },\n    {\n      \"column\": \"Customer Age\",\n      \"properties\": {\n        \"dtype\": \"number\",\n        \"std\": 15,\n        \"min\": 18,\n        \"max\": 70,\n        \"num_unique_values\": 53,\n        \"samples\": [\n          35,\n          29,\n          45\n        ],\n        \"semantic_type\": \"\",\n        \"description\": \"\"\n      }\n    },\n    {\n      \"column\": \"Customer Gender\",\n      \"properties\": {\n        \"dtype\": \"category\",\n        \"num_unique_values\": 3,\n        \"samples\": [\n          \"Other\",\n          \"Female\",\n          \"Male\"\n        ],\n        \"semantic_type\": \"\",\n        \"description\": \"\"\n      }\n    },\n    {\n      \"column\": \"Product Purchased\",\n      \"properties\": {\n        \"dtype\": \"category\",\n        \"num_unique_values\": 42,\n        \"samples\": [\n          \"PlayStation\",\n          \"Sony PlayStation\",\n          \"Dyson Vacuum Cleaner\"\n        ],\n        \"semantic_type\": \"\",\n        \"description\": \"\"\n      }\n    },\n    {\n      \"column\": \"Date of Purchase\",\n      \"properties\": {\n        \"dtype\": \"object\",\n        \"num_unique_values\": 730,\n        \"samples\": [\n          \"2021-03-29\",\n          \"2021-05-21\",\n          \"2020-12-23\"\n        ],\n        \"semantic_type\": \"\",\n        \"description\": \"\"\n      }\n    },\n    {\n      \"column\": \"Ticket Type\",\n      \"properties\": {\n        \"dtype\": \"category\",\n        \"num_unique_values\": 5,\n        \"samples\": [\n          \"Billing inquiry\",\n          \"Refund request\",\n          \"Cancellation request\"\n        ],\n        \"semantic_type\": \"\",\n        \"description\": \"\"\n      }\n    },\n    {\n      \"column\": \"Ticket Subject\",\n      \"properties\": {\n        \"dtype\": \"category\",\n        \"num_unique_values\": 16,\n        \"samples\": [\n          \"Product setup\",\n          \"Peripheral compatibility\",\n          \"Payment issue\"\n        ],\n        \"semantic_type\": \"\",\n        \"description\": \"\"\n      }\n    },\n    {\n      \"column\": \"Ticket Description\",\n      \"properties\": {\n        \"dtype\": \"string\",\n        \"num_unique_values\": 8077,\n        \"samples\": [\n          \"The {product_purchased} is unable to establish a stable internet connection. It keeps disconnecting intermittently. How can I troubleshoot this network problem?\\n\\nYou can download a fix for this problem. See \\\"Fixing IPv I'm unable to find the option to perform the desired action in the {product_purchased}. Could you please guide me through the steps?\",\n          \"I'm having an issue with the {product_purchased}. Please assist. As you know, this is not a good user experience. This might result in your subscription being cancelled, deleted and/or not being available for your account. Please I've noticed a peculiar error message popping up on my {product_purchased} screen. It says '{error_message}'. What does it mean?\",\n          \"I've accidentally deleted important data from my {product_purchased}. Is there any way to recover the deleted files? I need them urgently.\\n\\nIf a product or service that you purchased has any deleted product or service at all, send I'm unable to find the option to perform the desired action in the {product_purchased}. Could you please guide me through the steps?\"\n        ],\n        \"semantic_type\": \"\",\n        \"description\": \"\"\n      }\n    },\n    {\n      \"column\": \"Ticket Status\",\n      \"properties\": {\n        \"dtype\": \"category\",\n        \"num_unique_values\": 3,\n        \"samples\": [\n          \"Pending Customer Response\",\n          \"Closed\",\n          \"Open\"\n        ],\n        \"semantic_type\": \"\",\n        \"description\": \"\"\n      }\n    },\n    {\n      \"column\": \"Resolution\",\n      \"properties\": {\n        \"dtype\": \"category\",\n        \"num_unique_values\": 2769,\n        \"samples\": [\n          \"Such option result friend able director.\",\n          \"Pick Republican offer world actually road during.\",\n          \"Deal step team east pressure.\"\n        ],\n        \"semantic_type\": \"\",\n        \"description\": \"\"\n      }\n    },\n    {\n      \"column\": \"Ticket Priority\",\n      \"properties\": {\n        \"dtype\": \"category\",\n        \"num_unique_values\": 4,\n        \"samples\": [\n          \"Low\",\n          \"Medium\",\n          \"Critical\"\n        ],\n        \"semantic_type\": \"\",\n        \"description\": \"\"\n      }\n    },\n    {\n      \"column\": \"Ticket Channel\",\n      \"properties\": {\n        \"dtype\": \"category\",\n        \"num_unique_values\": 4,\n        \"samples\": [\n          \"Chat\",\n          \"Phone\",\n          \"Social media\"\n        ],\n        \"semantic_type\": \"\",\n        \"description\": \"\"\n      }\n    },\n    {\n      \"column\": \"First Response Time\",\n      \"properties\": {\n        \"dtype\": \"object\",\n        \"num_unique_values\": 5470,\n        \"samples\": [\n          \"2023-06-01 22:49:50\",\n          \"2023-06-01 12:29:36\",\n          \"2023-06-01 10:07:10\"\n        ],\n        \"semantic_type\": \"\",\n        \"description\": \"\"\n      }\n    },\n    {\n      \"column\": \"Time to Resolution\",\n      \"properties\": {\n        \"dtype\": \"date\",\n        \"min\": \"2023-05-31 21:53:30\",\n        \"max\": \"2023-06-02 00:55:33\",\n        \"num_unique_values\": 2728,\n        \"samples\": [\n          \"2023-06-01 12:27:47\",\n          \"2023-06-01 04:45:06\",\n          \"2023-06-01 16:13:10\"\n        ],\n        \"semantic_type\": \"\",\n        \"description\": \"\"\n      }\n    },\n    {\n      \"column\": \"Customer Satisfaction Rating\",\n      \"properties\": {\n        \"dtype\": \"number\",\n        \"std\": 1.4070158617996908,\n        \"min\": 1.0,\n        \"max\": 5.0,\n        \"num_unique_values\": 5,\n        \"samples\": [\n          1.0,\n          2.0,\n          4.0\n        ],\n        \"semantic_type\": \"\",\n        \"description\": \"\"\n      }\n    }\n  ]\n}"
            }
          },
          "metadata": {},
          "execution_count": 31
        }
      ]
    },
    {
      "cell_type": "markdown",
      "source": [
        "2. Preprocessing & encoding"
      ],
      "metadata": {
        "id": "-KZOW-Mi1nbz"
      }
    },
    {
      "cell_type": "code",
      "source": [
        "print(df.columns)\n",
        "print(df.head(3))"
      ],
      "metadata": {
        "colab": {
          "base_uri": "https://localhost:8080/"
        },
        "id": "DFPLlY63xxKO",
        "outputId": "eab8beeb-0d88-41da-ee27-965f60000d1e"
      },
      "execution_count": 18,
      "outputs": [
        {
          "output_type": "stream",
          "name": "stdout",
          "text": [
            "Index(['Ticket ID', 'Customer Name', 'Customer Email', 'Customer Age',\n",
            "       'Customer Gender', 'Product Purchased', 'Date of Purchase',\n",
            "       'Ticket Type', 'Ticket Subject', 'Ticket Description', 'Ticket Status',\n",
            "       'Resolution', 'Ticket Priority', 'Ticket Channel',\n",
            "       'First Response Time', 'Time to Resolution',\n",
            "       'Customer Satisfaction Rating'],\n",
            "      dtype='object')\n",
            "   Ticket ID        Customer Name              Customer Email  Customer Age  \\\n",
            "0          1        Marisa Obrien  carrollallison@example.com            32   \n",
            "1          2         Jessica Rios    clarkeashley@example.com            42   \n",
            "2          3  Christopher Robbins   gonzalestracy@example.com            48   \n",
            "\n",
            "  Customer Gender Product Purchased Date of Purchase      Ticket Type  \\\n",
            "0           Other        GoPro Hero       2021-03-22  Technical issue   \n",
            "1          Female       LG Smart TV       2021-05-22  Technical issue   \n",
            "2           Other          Dell XPS       2020-07-14  Technical issue   \n",
            "\n",
            "             Ticket Subject  \\\n",
            "0             Product setup   \n",
            "1  Peripheral compatibility   \n",
            "2           Network problem   \n",
            "\n",
            "                                  Ticket Description  \\\n",
            "0  I'm having an issue with the {product_purchase...   \n",
            "1  I'm having an issue with the {product_purchase...   \n",
            "2  I'm facing a problem with my {product_purchase...   \n",
            "\n",
            "               Ticket Status                                    Resolution  \\\n",
            "0  Pending Customer Response                                           NaN   \n",
            "1  Pending Customer Response                                           NaN   \n",
            "2                     Closed  Case maybe show recently my computer follow.   \n",
            "\n",
            "  Ticket Priority Ticket Channel  First Response Time   Time to Resolution  \\\n",
            "0        Critical   Social media  2023-06-01 12:15:36                  NaN   \n",
            "1        Critical           Chat  2023-06-01 16:45:38                  NaN   \n",
            "2             Low   Social media  2023-06-01 11:14:38  2023-06-01 18:05:38   \n",
            "\n",
            "   Customer Satisfaction Rating  \n",
            "0                           NaN  \n",
            "1                           NaN  \n",
            "2                           3.0  \n"
          ]
        }
      ]
    },
    {
      "cell_type": "code",
      "source": [
        "texts = df['Ticket Description'].astype(str)\n",
        "labels = df['Ticket Type']"
      ],
      "metadata": {
        "id": "gczml0MvyOfu"
      },
      "execution_count": 20,
      "outputs": []
    },
    {
      "cell_type": "markdown",
      "source": [
        "3. Label encoding"
      ],
      "metadata": {
        "id": "8pX9L3j7163c"
      }
    },
    {
      "cell_type": "code",
      "source": [
        "le = LabelEncoder()\n",
        "labels_encoded = le.fit_transform(labels)"
      ],
      "metadata": {
        "id": "SNHifg9Xyo4n"
      },
      "execution_count": 21,
      "outputs": []
    },
    {
      "cell_type": "markdown",
      "source": [
        "4. Tokenisasi teks"
      ],
      "metadata": {
        "id": "M4uwy9a42BvQ"
      }
    },
    {
      "cell_type": "code",
      "source": [
        "tokenizer = Tokenizer(num_words=5000, oov_token=\"<OOV>\")\n",
        "tokenizer.fit_on_texts(texts)\n",
        "sequences = tokenizer.texts_to_sequences(texts)\n",
        "padded = pad_sequences(sequences, maxlen=50, padding='post')"
      ],
      "metadata": {
        "id": "wNI_KpHIyv73"
      },
      "execution_count": 32,
      "outputs": []
    },
    {
      "cell_type": "markdown",
      "source": [
        "5. Split Data"
      ],
      "metadata": {
        "id": "6_98y2uv2JxQ"
      }
    },
    {
      "cell_type": "code",
      "source": [
        "X_train, X_test, y_train, y_test = train_test_split(\n",
        "    padded, labels_encoded, test_size=0.2, random_state=42\n",
        ")"
      ],
      "metadata": {
        "id": "gTrvlwyUy2mD"
      },
      "execution_count": 23,
      "outputs": []
    },
    {
      "cell_type": "markdown",
      "source": [
        "6. Buat Model LSTM"
      ],
      "metadata": {
        "id": "a-SHcrql2OoS"
      }
    },
    {
      "cell_type": "code",
      "source": [
        "model = tf.keras.Sequential([\n",
        "    tf.keras.layers.Embedding(5000, 64, input_length=50),\n",
        "    tf.keras.layers.Bidirectional(tf.keras.layers.LSTM(64)),\n",
        "    tf.keras.layers.Dense(64, activation='relu'),\n",
        "    tf.keras.layers.Dropout(0.5),\n",
        "    tf.keras.layers.Dense(len(le.classes_), activation='softmax')\n",
        "])\n",
        "\n",
        "model.compile(loss='sparse_categorical_crossentropy', optimizer='adam', metrics=['accuracy'])\n",
        "model.summary()"
      ],
      "metadata": {
        "colab": {
          "base_uri": "https://localhost:8080/",
          "height": 344
        },
        "id": "KjyLfAOZy6Ru",
        "outputId": "7306e288-0325-4714-c9a3-1f60635024ed"
      },
      "execution_count": 24,
      "outputs": [
        {
          "output_type": "stream",
          "name": "stderr",
          "text": [
            "/usr/local/lib/python3.11/dist-packages/keras/src/layers/core/embedding.py:90: UserWarning: Argument `input_length` is deprecated. Just remove it.\n",
            "  warnings.warn(\n"
          ]
        },
        {
          "output_type": "display_data",
          "data": {
            "text/plain": [
              "\u001b[1mModel: \"sequential\"\u001b[0m\n"
            ],
            "text/html": [
              "<pre style=\"white-space:pre;overflow-x:auto;line-height:normal;font-family:Menlo,'DejaVu Sans Mono',consolas,'Courier New',monospace\"><span style=\"font-weight: bold\">Model: \"sequential\"</span>\n",
              "</pre>\n"
            ]
          },
          "metadata": {}
        },
        {
          "output_type": "display_data",
          "data": {
            "text/plain": [
              "┏━━━━━━━━━━━━━━━━━━━━━━━━━━━━━━━━━┳━━━━━━━━━━━━━━━━━━━━━━━━┳━━━━━━━━━━━━━━━┓\n",
              "┃\u001b[1m \u001b[0m\u001b[1mLayer (type)                   \u001b[0m\u001b[1m \u001b[0m┃\u001b[1m \u001b[0m\u001b[1mOutput Shape          \u001b[0m\u001b[1m \u001b[0m┃\u001b[1m \u001b[0m\u001b[1m      Param #\u001b[0m\u001b[1m \u001b[0m┃\n",
              "┡━━━━━━━━━━━━━━━━━━━━━━━━━━━━━━━━━╇━━━━━━━━━━━━━━━━━━━━━━━━╇━━━━━━━━━━━━━━━┩\n",
              "│ embedding (\u001b[38;5;33mEmbedding\u001b[0m)           │ ?                      │   \u001b[38;5;34m0\u001b[0m (unbuilt) │\n",
              "├─────────────────────────────────┼────────────────────────┼───────────────┤\n",
              "│ bidirectional (\u001b[38;5;33mBidirectional\u001b[0m)   │ ?                      │   \u001b[38;5;34m0\u001b[0m (unbuilt) │\n",
              "├─────────────────────────────────┼────────────────────────┼───────────────┤\n",
              "│ dense (\u001b[38;5;33mDense\u001b[0m)                   │ ?                      │   \u001b[38;5;34m0\u001b[0m (unbuilt) │\n",
              "├─────────────────────────────────┼────────────────────────┼───────────────┤\n",
              "│ dropout (\u001b[38;5;33mDropout\u001b[0m)               │ ?                      │             \u001b[38;5;34m0\u001b[0m │\n",
              "├─────────────────────────────────┼────────────────────────┼───────────────┤\n",
              "│ dense_1 (\u001b[38;5;33mDense\u001b[0m)                 │ ?                      │   \u001b[38;5;34m0\u001b[0m (unbuilt) │\n",
              "└─────────────────────────────────┴────────────────────────┴───────────────┘\n"
            ],
            "text/html": [
              "<pre style=\"white-space:pre;overflow-x:auto;line-height:normal;font-family:Menlo,'DejaVu Sans Mono',consolas,'Courier New',monospace\">┏━━━━━━━━━━━━━━━━━━━━━━━━━━━━━━━━━┳━━━━━━━━━━━━━━━━━━━━━━━━┳━━━━━━━━━━━━━━━┓\n",
              "┃<span style=\"font-weight: bold\"> Layer (type)                    </span>┃<span style=\"font-weight: bold\"> Output Shape           </span>┃<span style=\"font-weight: bold\">       Param # </span>┃\n",
              "┡━━━━━━━━━━━━━━━━━━━━━━━━━━━━━━━━━╇━━━━━━━━━━━━━━━━━━━━━━━━╇━━━━━━━━━━━━━━━┩\n",
              "│ embedding (<span style=\"color: #0087ff; text-decoration-color: #0087ff\">Embedding</span>)           │ ?                      │   <span style=\"color: #00af00; text-decoration-color: #00af00\">0</span> (unbuilt) │\n",
              "├─────────────────────────────────┼────────────────────────┼───────────────┤\n",
              "│ bidirectional (<span style=\"color: #0087ff; text-decoration-color: #0087ff\">Bidirectional</span>)   │ ?                      │   <span style=\"color: #00af00; text-decoration-color: #00af00\">0</span> (unbuilt) │\n",
              "├─────────────────────────────────┼────────────────────────┼───────────────┤\n",
              "│ dense (<span style=\"color: #0087ff; text-decoration-color: #0087ff\">Dense</span>)                   │ ?                      │   <span style=\"color: #00af00; text-decoration-color: #00af00\">0</span> (unbuilt) │\n",
              "├─────────────────────────────────┼────────────────────────┼───────────────┤\n",
              "│ dropout (<span style=\"color: #0087ff; text-decoration-color: #0087ff\">Dropout</span>)               │ ?                      │             <span style=\"color: #00af00; text-decoration-color: #00af00\">0</span> │\n",
              "├─────────────────────────────────┼────────────────────────┼───────────────┤\n",
              "│ dense_1 (<span style=\"color: #0087ff; text-decoration-color: #0087ff\">Dense</span>)                 │ ?                      │   <span style=\"color: #00af00; text-decoration-color: #00af00\">0</span> (unbuilt) │\n",
              "└─────────────────────────────────┴────────────────────────┴───────────────┘\n",
              "</pre>\n"
            ]
          },
          "metadata": {}
        },
        {
          "output_type": "display_data",
          "data": {
            "text/plain": [
              "\u001b[1m Total params: \u001b[0m\u001b[38;5;34m0\u001b[0m (0.00 B)\n"
            ],
            "text/html": [
              "<pre style=\"white-space:pre;overflow-x:auto;line-height:normal;font-family:Menlo,'DejaVu Sans Mono',consolas,'Courier New',monospace\"><span style=\"font-weight: bold\"> Total params: </span><span style=\"color: #00af00; text-decoration-color: #00af00\">0</span> (0.00 B)\n",
              "</pre>\n"
            ]
          },
          "metadata": {}
        },
        {
          "output_type": "display_data",
          "data": {
            "text/plain": [
              "\u001b[1m Trainable params: \u001b[0m\u001b[38;5;34m0\u001b[0m (0.00 B)\n"
            ],
            "text/html": [
              "<pre style=\"white-space:pre;overflow-x:auto;line-height:normal;font-family:Menlo,'DejaVu Sans Mono',consolas,'Courier New',monospace\"><span style=\"font-weight: bold\"> Trainable params: </span><span style=\"color: #00af00; text-decoration-color: #00af00\">0</span> (0.00 B)\n",
              "</pre>\n"
            ]
          },
          "metadata": {}
        },
        {
          "output_type": "display_data",
          "data": {
            "text/plain": [
              "\u001b[1m Non-trainable params: \u001b[0m\u001b[38;5;34m0\u001b[0m (0.00 B)\n"
            ],
            "text/html": [
              "<pre style=\"white-space:pre;overflow-x:auto;line-height:normal;font-family:Menlo,'DejaVu Sans Mono',consolas,'Courier New',monospace\"><span style=\"font-weight: bold\"> Non-trainable params: </span><span style=\"color: #00af00; text-decoration-color: #00af00\">0</span> (0.00 B)\n",
              "</pre>\n"
            ]
          },
          "metadata": {}
        }
      ]
    },
    {
      "cell_type": "markdown",
      "source": [
        "7. Training"
      ],
      "metadata": {
        "id": "L-vSuas02VbP"
      }
    },
    {
      "cell_type": "code",
      "source": [
        "history = model.fit(X_train, y_train, epochs=10, batch_size=32, validation_data=(X_test, y_test))"
      ],
      "metadata": {
        "colab": {
          "base_uri": "https://localhost:8080/"
        },
        "id": "-cwlIrz8zEtF",
        "outputId": "f76561fe-8d54-42f6-d16b-4fbf2591eae6"
      },
      "execution_count": 25,
      "outputs": [
        {
          "output_type": "stream",
          "name": "stdout",
          "text": [
            "Epoch 1/10\n",
            "\u001b[1m212/212\u001b[0m \u001b[32m━━━━━━━━━━━━━━━━━━━━\u001b[0m\u001b[37m\u001b[0m \u001b[1m18s\u001b[0m 59ms/step - accuracy: 0.1918 - loss: 1.6109 - val_accuracy: 0.2078 - val_loss: 1.6096\n",
            "Epoch 2/10\n",
            "\u001b[1m212/212\u001b[0m \u001b[32m━━━━━━━━━━━━━━━━━━━━\u001b[0m\u001b[37m\u001b[0m \u001b[1m21s\u001b[0m 62ms/step - accuracy: 0.2140 - loss: 1.6080 - val_accuracy: 0.2037 - val_loss: 1.6108\n",
            "Epoch 3/10\n",
            "\u001b[1m212/212\u001b[0m \u001b[32m━━━━━━━━━━━━━━━━━━━━\u001b[0m\u001b[37m\u001b[0m \u001b[1m19s\u001b[0m 55ms/step - accuracy: 0.2179 - loss: 1.6057 - val_accuracy: 0.2066 - val_loss: 1.6118\n",
            "Epoch 4/10\n",
            "\u001b[1m212/212\u001b[0m \u001b[32m━━━━━━━━━━━━━━━━━━━━\u001b[0m\u001b[37m\u001b[0m \u001b[1m21s\u001b[0m 57ms/step - accuracy: 0.2240 - loss: 1.6028 - val_accuracy: 0.1989 - val_loss: 1.6309\n",
            "Epoch 5/10\n",
            "\u001b[1m212/212\u001b[0m \u001b[32m━━━━━━━━━━━━━━━━━━━━\u001b[0m\u001b[37m\u001b[0m \u001b[1m12s\u001b[0m 57ms/step - accuracy: 0.2641 - loss: 1.5672 - val_accuracy: 0.1942 - val_loss: 1.6699\n",
            "Epoch 6/10\n",
            "\u001b[1m212/212\u001b[0m \u001b[32m━━━━━━━━━━━━━━━━━━━━\u001b[0m\u001b[37m\u001b[0m \u001b[1m13s\u001b[0m 59ms/step - accuracy: 0.3169 - loss: 1.5109 - val_accuracy: 0.1860 - val_loss: 1.7063\n",
            "Epoch 7/10\n",
            "\u001b[1m212/212\u001b[0m \u001b[32m━━━━━━━━━━━━━━━━━━━━\u001b[0m\u001b[37m\u001b[0m \u001b[1m20s\u001b[0m 56ms/step - accuracy: 0.3680 - loss: 1.4009 - val_accuracy: 0.1877 - val_loss: 1.7734\n",
            "Epoch 8/10\n",
            "\u001b[1m212/212\u001b[0m \u001b[32m━━━━━━━━━━━━━━━━━━━━\u001b[0m\u001b[37m\u001b[0m \u001b[1m13s\u001b[0m 59ms/step - accuracy: 0.4073 - loss: 1.3141 - val_accuracy: 0.1930 - val_loss: 2.0002\n",
            "Epoch 9/10\n",
            "\u001b[1m212/212\u001b[0m \u001b[32m━━━━━━━━━━━━━━━━━━━━\u001b[0m\u001b[37m\u001b[0m \u001b[1m21s\u001b[0m 60ms/step - accuracy: 0.4427 - loss: 1.2447 - val_accuracy: 0.1989 - val_loss: 2.0164\n",
            "Epoch 10/10\n",
            "\u001b[1m212/212\u001b[0m \u001b[32m━━━━━━━━━━━━━━━━━━━━\u001b[0m\u001b[37m\u001b[0m \u001b[1m12s\u001b[0m 57ms/step - accuracy: 0.4881 - loss: 1.1643 - val_accuracy: 0.1913 - val_loss: 2.0341\n"
          ]
        }
      ]
    },
    {
      "cell_type": "markdown",
      "source": [
        "8. Evaluasi Model"
      ],
      "metadata": {
        "id": "RvegvUwt2bzq"
      }
    },
    {
      "cell_type": "code",
      "source": [
        "loss, acc = model.evaluate(X_test, y_test)\n",
        "print(f\"Test Accuracy: {acc:.2f}\")"
      ],
      "metadata": {
        "colab": {
          "base_uri": "https://localhost:8080/"
        },
        "id": "1xAz54r-z02-",
        "outputId": "fb1abb1d-54f9-4835-c2ec-f8dafdf87700"
      },
      "execution_count": 26,
      "outputs": [
        {
          "output_type": "stream",
          "name": "stdout",
          "text": [
            "\u001b[1m53/53\u001b[0m \u001b[32m━━━━━━━━━━━━━━━━━━━━\u001b[0m\u001b[37m\u001b[0m \u001b[1m1s\u001b[0m 14ms/step - accuracy: 0.1871 - loss: 1.9975\n",
            "Test Accuracy: 0.19\n"
          ]
        }
      ]
    },
    {
      "cell_type": "markdown",
      "source": [
        "9. Visualisasi"
      ],
      "metadata": {
        "id": "0-XNtvpa2hKr"
      }
    },
    {
      "cell_type": "code",
      "source": [
        "plt.plot(history.history['accuracy'], label='Train Acc')\n",
        "plt.plot(history.history['val_accuracy'], label='Val Acc')\n",
        "plt.title('Accuracy per Epoch')\n",
        "plt.xlabel('Epoch')\n",
        "plt.ylabel('Accuracy')\n",
        "plt.legend()\n",
        "plt.show()"
      ],
      "metadata": {
        "colab": {
          "base_uri": "https://localhost:8080/",
          "height": 472
        },
        "id": "eIEY0SVyz55-",
        "outputId": "94859e5c-7b6a-4741-e88e-3618d546cf09"
      },
      "execution_count": 27,
      "outputs": [
        {
          "output_type": "display_data",
          "data": {
            "text/plain": [
              "<Figure size 640x480 with 1 Axes>"
            ],
            "image/png": "[encoded data removed]"
          },
          "metadata": {}
        }
      ]
    },
    {
      "cell_type": "markdown",
      "source": [
        "10. Fungsi Prediksi"
      ],
      "metadata": {
        "id": "blAaIFXW2mFM"
      }
    },
    {
      "cell_type": "code",
      "source": [
        "def predict_ticket(text):\n",
        "    seq = tokenizer.texts_to_sequences([text])\n",
        "    pad = pad_sequences(seq, maxlen=50, padding='post')\n",
        "    pred = model.predict(pad)\n",
        "    return le.inverse_transform([np.argmax(pred)])[0]\n",
        "\n",
        "# Contoh:\n",
        "predict_ticket(\"Saya tidak bisa login ke akun saya\")"
      ],
      "metadata": {
        "colab": {
          "base_uri": "https://localhost:8080/",
          "height": 52
        },
        "id": "9zET_6lgz9w5",
        "outputId": "a49ebb96-4d20-40a1-b11e-b7d6c80f99d2"
      },
      "execution_count": 28,
      "outputs": [
        {
          "output_type": "stream",
          "name": "stdout",
          "text": [
            "\u001b[1m1/1\u001b[0m \u001b[32m━━━━━━━━━━━━━━━━━━━━\u001b[0m\u001b[37m\u001b[0m \u001b[1m0s\u001b[0m 379ms/step\n"
          ]
        },
        {
          "output_type": "execute_result",
          "data": {
            "text/plain": [
              "'Product inquiry'"
            ],
            "application/vnd.google.colaboratory.intrinsic+json": {
              "type": "string"
            }
          },
          "metadata": {},
          "execution_count": 28
        }
      ]
    },
    {
      "cell_type": "code",
      "source": [
        "predict_ticket(\"Saya ingin mengembalikan barang yang salah\")\n",
        "predict_ticket(\"Tagihan saya tidak sesuai\")\n",
        "predict_ticket(\"Kapan produk saya dikirim?\")"
      ],
      "metadata": {
        "colab": {
          "base_uri": "https://localhost:8080/",
          "height": 87
        },
        "id": "w_s3HSle0Uuy",
        "outputId": "b3d8d901-01f5-4dfe-883b-3ee44c1ff085"
      },
      "execution_count": 29,
      "outputs": [
        {
          "output_type": "stream",
          "name": "stdout",
          "text": [
            "\u001b[1m1/1\u001b[0m \u001b[32m━━━━━━━━━━━━━━━━━━━━\u001b[0m\u001b[37m\u001b[0m \u001b[1m0s\u001b[0m 42ms/step\n",
            "\u001b[1m1/1\u001b[0m \u001b[32m━━━━━━━━━━━━━━━━━━━━\u001b[0m\u001b[37m\u001b[0m \u001b[1m0s\u001b[0m 55ms/step\n",
            "\u001b[1m1/1\u001b[0m \u001b[32m━━━━━━━━━━━━━━━━━━━━\u001b[0m\u001b[37m\u001b[0m \u001b[1m0s\u001b[0m 64ms/step\n"
          ]
        },
        {
          "output_type": "execute_result",
          "data": {
            "text/plain": [
              "'Cancellation request'"
            ],
            "application/vnd.google.colaboratory.intrinsic+json": {
              "type": "string"
            }
          },
          "metadata": {},
          "execution_count": 29
        }
      ]
    },
    {
      "cell_type": "markdown",
      "source": [
        "11. Akurasi model"
      ],
      "metadata": {
        "id": "7B1Q2ph122_p"
      }
    },
    {
      "cell_type": "code",
      "source": [
        "from sklearn.metrics import classification_report\n",
        "y_pred = model.predict(X_test)\n",
        "y_pred_classes = np.argmax(y_pred, axis=1)\n",
        "print(classification_report(y_test, y_pred_classes, target_names=le.classes_))"
      ],
      "metadata": {
        "colab": {
          "base_uri": "https://localhost:8080/"
        },
        "id": "64jK225o0gfl",
        "outputId": "ba49520d-6965-41fd-df3e-79b0d614952f"
      },
      "execution_count": 30,
      "outputs": [
        {
          "output_type": "stream",
          "name": "stdout",
          "text": [
            "\u001b[1m53/53\u001b[0m \u001b[32m━━━━━━━━━━━━━━━━━━━━\u001b[0m\u001b[37m\u001b[0m \u001b[1m2s\u001b[0m 34ms/step\n",
            "                      precision    recall  f1-score   support\n",
            "\n",
            "     Billing inquiry       0.15      0.02      0.03       357\n",
            "Cancellation request       0.18      0.25      0.21       327\n",
            "     Product inquiry       0.20      0.13      0.15       316\n",
            "      Refund request       0.18      0.11      0.14       345\n",
            "     Technical issue       0.20      0.45      0.28       349\n",
            "\n",
            "            accuracy                           0.19      1694\n",
            "           macro avg       0.18      0.19      0.16      1694\n",
            "        weighted avg       0.18      0.19      0.16      1694\n",
            "\n"
          ]
        }
      ]
    }
  ],
  "metadata": {
    "colab": {
      "provenance": []
    },
    "kernelspec": {
      "display_name": "Python 3",
      "name": "python3"
    },
    "language_info": {
      "name": "python"
    }
  },
  "nbformat": 4,
  "nbformat_minor": 0
}